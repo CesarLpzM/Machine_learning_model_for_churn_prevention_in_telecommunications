{
  "cells": [
    {
      "cell_type": "markdown",
      "metadata": {
        "id": "xPNd3UoB1Ga7"
      },
      "source": [
        "# Introducción del proyecto"
      ]
    },
    {
      "cell_type": "markdown",
      "metadata": {
        "id": "Fl_JtHoc1Ga8"
      },
      "source": [
        "Nuestro cliente Interconnect, quien se dedica a ofrecer servicios de telecomunicaciones, le gustaría poder pronosticar su tasa de cancelación de clientes. Y nos ha solicitado que diseñemos un modelo de aprendizaje automático que prediga cuando un usuario o usuaria planea irse. Lo anterior con el fin de ofrecerle a dichos clientes códigos promocionales y opciones de planes especiales para buscar retenerlos. El equipo de marketing de Interconnect ha recopilado algunos de los datos personales de los clientes, incluyendo información sobre sus planes y contratos. Toda esta información se nos ha compartido y será tratada con total confidencialidad."
      ]
    },
    {
      "cell_type": "markdown",
      "metadata": {
        "id": "ze4m2Exu1Ga8"
      },
      "source": [
        "# Carga de librerías"
      ]
    },
    {
      "cell_type": "code",
      "execution_count": null,
      "metadata": {
        "id": "5D9riAyA1Ga9"
      },
      "outputs": [],
      "source": [
        "# En esta celda vamos a cargar todas las librerías necesarias para el proyecto.\n",
        "import pandas as pd\n",
        "from sklearn.impute import SimpleImputer\n",
        "import numpy as np\n",
        "from sklearn.feature_selection import VarianceThreshold\n",
        "from sklearn.preprocessing import StandardScaler\n",
        "from sklearn.model_selection import train_test_split\n",
        "from sklearn.ensemble import RandomForestClassifier\n",
        "from sklearn.linear_model import LogisticRegression\n",
        "from sklearn.model_selection import GridSearchCV\n",
        "from sklearn.metrics import roc_auc_score, roc_curve\n",
        "import matplotlib.pyplot as plt"
      ]
    },
    {
      "cell_type": "markdown",
      "metadata": {
        "id": "8vs5dk7c1Ga-"
      },
      "source": [
        "# Carga de los datos"
      ]
    },
    {
      "cell_type": "code",
      "execution_count": null,
      "metadata": {
        "id": "UdCDKEVK1Ga-"
      },
      "outputs": [],
      "source": [
        "# Cargamos los datos compartidos por nuestro cliente y creamos dataframes para poder observar y trabajar con los mismos.\n",
        "contract_info = pd.read_csv('/datasets/final_provider/contract.csv', na_values=['', ' ', 'N/A', 'na', 'null'])\n",
        "customer_info = pd.read_csv('/datasets/final_provider/personal.csv', na_values=['', ' ', 'N/A', 'na', 'null'])\n",
        "internet_services = pd.read_csv('/datasets/final_provider/internet.csv', na_values=['', ' ', 'N/A', 'na', 'null'])\n",
        "phone_services = pd.read_csv('/datasets/final_provider/phone.csv', na_values=['', ' ', 'N/A', 'na', 'null'])"
      ]
    },
    {
      "cell_type": "markdown",
      "metadata": {
        "id": "Pwr3s5wT1Ga_"
      },
      "source": [
        "# Análisis exploratorio de datos (Segunda parte)"
      ]
    },
    {
      "cell_type": "markdown",
      "metadata": {
        "id": "HXqxUS_B1Ga_"
      },
      "source": [
        "Después de resolver las dudas con el líder del proyecto, decidimos que no sería necesario realizar una segunda parte del EDA."
      ]
    },
    {
      "cell_type": "markdown",
      "metadata": {
        "id": "VcIGCz5z1Ga_"
      },
      "source": [
        "# Preprocesamiento de datos"
      ]
    },
    {
      "cell_type": "markdown",
      "metadata": {
        "id": "mlOBS4b01Ga_"
      },
      "source": [
        "## Imputación de valores ausentes"
      ]
    },
    {
      "cell_type": "code",
      "execution_count": null,
      "metadata": {
        "id": "7kmUHTHE1GbA",
        "outputId": "62ddafe3-da6a-490b-9ba7-ea31d8f37d38"
      },
      "outputs": [
        {
          "name": "stdout",
          "output_type": "stream",
          "text": [
            "La media del total de cargos es: 2283.30\n",
            "La mediana del  total de cargos es: 1397.47\n"
          ]
        }
      ],
      "source": [
        "# Vamos a realizar una imputación para los valores ausentes del dataframe de la información de los contratos, en la columna \"TotalCharges\".\n",
        "# Para definir con que valores sustituir los valores ausentes en la columna \"TotalCharges\", veremos si hay valores atípicos.\n",
        "\n",
        "# Obtenemos la media y la mediana de la columna \"TotalCharges\".\n",
        "totalcharges_mean = contract_info['TotalCharges'].mean()\n",
        "totalcharges_median = contract_info['TotalCharges'].median()\n",
        "print(f\"La media del total de cargos es: {totalcharges_mean:.2f}\")\n",
        "print(f\"La mediana del  total de cargos es: {totalcharges_median:.2f}\")\n",
        "\n",
        "# Como si hay gran diferenia entre la media y la mediana de los valores de la columna \"TotalCharges\", podemos concluir que si hay valores atípicos en esta,\n",
        "# por lo que rellenaremos los valores ausentes de la columna anterior, con la mediana de la misma.\n",
        "\n",
        "imputer = SimpleImputer(strategy='median')\n",
        "contract_info['TotalCharges'] = imputer.fit_transform(contract_info[['TotalCharges']])"
      ]
    },
    {
      "cell_type": "markdown",
      "metadata": {
        "id": "fj-k0cbh1GbA"
      },
      "source": [
        "## Cumplimiento del buen estilo"
      ]
    },
    {
      "cell_type": "code",
      "execution_count": null,
      "metadata": {
        "id": "xdr7Lstu1GbA"
      },
      "outputs": [],
      "source": [
        "# Comenzamos corrigiendo el estilo de los nombres de las columnas de cada dataframe, para lo cual crearemos una función que nos ayude con la tarea.\n",
        "def lower_names (dataframe):\n",
        "    new_col_names = []\n",
        "    for column_name in dataframe.columns:\n",
        "        lower_name = column_name.lower()\n",
        "        new_col_names.append(lower_name)\n",
        "    dataframe.columns = new_col_names"
      ]
    },
    {
      "cell_type": "code",
      "execution_count": null,
      "metadata": {
        "id": "edzzs1_e1GbB"
      },
      "outputs": [],
      "source": [
        "# Aplicamos nuestra función a cada uno de los dataframes para corregir el estilo de los nombres de sus columnas.\n",
        "lower_names(contract_info)\n",
        "lower_names(customer_info)\n",
        "lower_names(internet_services)\n",
        "lower_names(phone_services)"
      ]
    },
    {
      "cell_type": "markdown",
      "metadata": {
        "id": "pyj4Be-41GbB"
      },
      "source": [
        "## Conversión de tipo de datos"
      ]
    },
    {
      "cell_type": "code",
      "execution_count": null,
      "metadata": {
        "id": "UHel4G0Q1GbB",
        "outputId": "fffa0cbc-336c-4b41-b2ef-5767517eff50"
      },
      "outputs": [
        {
          "name": "stdout",
          "output_type": "stream",
          "text": [
            "Errores por transformación de begindate:  0\n"
          ]
        }
      ],
      "source": [
        "# Continuamos convirtiendo los tipos de datos que consideramos que no son los adecuados para las columnas de los dataframes correspondientes.\n",
        "# Comencemos con el dataframe de la información de los contratos.\n",
        "contract_info['begindate'] = pd.to_datetime(contract_info['begindate'], format='%Y-%m-%d', errors='coerce')\n",
        "\n",
        "# Validamos si hay errores, productos de la transformación.\n",
        "print(\"Errores por transformación de begindate: \", contract_info['begindate'].isnull().sum())\n",
        "\n",
        "# Vamos a extraer tanto el año como el mes de inicio de los contratos de los clientes.\n",
        "contract_info['beginyear'] = contract_info['begindate'].dt.year\n",
        "contract_info['beginmonth'] = contract_info['begindate'].dt.month\n",
        "\n",
        "# Acomodamos las nuevas columnas.\n",
        "contract_info = contract_info[['customerid', 'begindate', 'beginyear', 'beginmonth', 'enddate', 'type', 'paperlessbilling', 'paymentmethod', 'monthlycharges', 'totalcharges']]"
      ]
    },
    {
      "cell_type": "code",
      "execution_count": null,
      "metadata": {
        "id": "SzQHT20e1GbB",
        "outputId": "c1f2094f-433e-4589-8352-053774ff0700"
      },
      "outputs": [
        {
          "name": "stdout",
          "output_type": "stream",
          "text": [
            "      customerid  begindate  beginyear  beginmonth  enddate            type  \\\n",
            "2991  2207-QPJED 2017-01-01       2017           1        0  Month-to-month   \n",
            "1370  7596-IIWYC 2017-11-01       2017          11        0        Two year   \n",
            "4660  0883-EIBTI 2019-10-01       2019          10        1  Month-to-month   \n",
            "3117  9844-FELAJ 2014-04-01       2014           4        0        One year   \n",
            "406   4742-DRORA 2015-02-01       2015           2        0        One year   \n",
            "\n",
            "     paperlessbilling              paymentmethod  monthlycharges  totalcharges  \n",
            "2991               No           Electronic check           90.00       3371.75  \n",
            "1370              Yes  Bank transfer (automatic)           20.25        538.20  \n",
            "4660               No               Mailed check           19.50         31.55  \n",
            "3117              Yes           Electronic check          107.90       7475.85  \n",
            "406               Yes  Bank transfer (automatic)           95.40       5812.00  \n"
          ]
        }
      ],
      "source": [
        "# Vamos a convertir los valores de la columna \"endate\" del dataframe \"contract_info\", a \"1\" si ya se fue el cliente, es decir; si el valor en la columna es diferente a \"No\".\n",
        "# Y \"0\" si el valor es igual a \"No\".\n",
        "contract_info['enddate'] = np.where(contract_info['enddate'] == \"No\", 0, 1)\n",
        "print(contract_info.sample(5))"
      ]
    },
    {
      "cell_type": "markdown",
      "metadata": {
        "id": "-BzfEB1O1GbB"
      },
      "source": [
        "## Creación de dataframe para entrenamiento y pruebas del modelo"
      ]
    },
    {
      "cell_type": "code",
      "execution_count": null,
      "metadata": {
        "id": "3Fd-ClRV1GbC"
      },
      "outputs": [],
      "source": [
        "# Ahora vamos a combinar los dataframes con base a la columna que tienen en común: \"customerid\", para obtener el dataframe que utilizaremos en el entrenamiento.\n",
        "df_merged = pd.merge(contract_info, customer_info, on='customerid', how='inner')\n",
        "\n",
        "# Como los dataframes siguientes contienen menos filas que \"df_merged\", vamos a cambiar el parámetro \"how\" para no perder datos valiosos.\n",
        "df_merged = pd.merge(df_merged, phone_services, on='customerid', how='left')\n",
        "df_merged = pd.merge(df_merged, internet_services, on='customerid', how='left')\n",
        "\n",
        "# Vamos a rellenar los valores ausentes con la leyenda \"WOI\" que significa \"Without Information\".\n",
        "df_merged.fillna('WOI', inplace=True)"
      ]
    },
    {
      "cell_type": "code",
      "execution_count": null,
      "metadata": {
        "id": "F107Hej21GbC",
        "outputId": "885e6aca-7337-4907-bc18-25ed97b29734"
      },
      "outputs": [
        {
          "name": "stdout",
          "output_type": "stream",
          "text": [
            "streamingmovies     0.216669\n",
            "streamingtv         0.216669\n",
            "techsupport         0.216669\n",
            "deviceprotection    0.216669\n",
            "onlinebackup        0.216669\n",
            "onlinesecurity      0.216669\n",
            "internetservice     0.216669\n",
            "multiplelines       0.096834\n",
            "begindate           0.000000\n",
            "dependents          0.000000\n",
            "partner             0.000000\n",
            "customerid          0.000000\n",
            "gender              0.000000\n",
            "totalcharges        0.000000\n",
            "monthlycharges      0.000000\n",
            "paymentmethod       0.000000\n",
            "paperlessbilling    0.000000\n",
            "type                0.000000\n",
            "enddate             0.000000\n",
            "beginmonth          0.000000\n",
            "beginyear           0.000000\n",
            "seniorcitizen       0.000000\n",
            "dtype: float64\n"
          ]
        }
      ],
      "source": [
        "# Ahora vamos a eliminar las columnas que son irrelevantes para el entrenamiento del modelo. Para lo anterior realizaremos varias pruebas que nos ayudarán con la tarea.\n",
        "\n",
        "# Veamos si hay columnas con muchos valores ausentes o en este caso \"WOI\".\n",
        "print((df_merged == \"WOI\").mean().sort_values(ascending=False))"
      ]
    },
    {
      "cell_type": "markdown",
      "metadata": {
        "id": "mywY77zY1GbC"
      },
      "source": [
        "Vemos que por mucho hay columnas que el 21.6% de sus valores son igual a \"WOI\", por lo que no vale la pena eliminarlas."
      ]
    },
    {
      "cell_type": "code",
      "execution_count": null,
      "metadata": {
        "id": "ZBRhd8Ho1GbC",
        "outputId": "00176849-4f6a-46a1-8288-860b6dfee1b2"
      },
      "outputs": [
        {
          "name": "stdout",
          "output_type": "stream",
          "text": [
            "Las columnas constantes con una varianza del 1% son: Index([], dtype='object')\n"
          ]
        }
      ],
      "source": [
        "# Veamos si hay columnas constantes o casi constantes, es decir; todos los valores son casi iguales. Solo aplica para variable numéricas.\n",
        "selector = VarianceThreshold(threshold=0.01)  # 1% de varianza mínima\n",
        "selector.fit(df_merged.select_dtypes(include=[np.number]))\n",
        "columnas_baja_var = df_merged.select_dtypes(include=[np.number]).columns[~selector.get_support()]\n",
        "print(\"Las columnas constantes con una varianza del 1% son:\", columnas_baja_var)"
      ]
    },
    {
      "cell_type": "markdown",
      "metadata": {
        "id": "hYXBoYTx1GbC"
      },
      "source": [
        "No tenemos columnas que sean constantes, por lo que no podemos elegir que columnas eliminar con este criterio."
      ]
    },
    {
      "cell_type": "code",
      "execution_count": null,
      "metadata": {
        "id": "dMKHiQr81GbC"
      },
      "outputs": [],
      "source": [
        "# Vamos a eliminar las columnas que no se utilizarán para hacer predicciones, es decir; que solo son útiles como referencia, pero que no tienen un valor predictivo directo.\n",
        "df_merged.drop(columns=['customerid', 'begindate', 'seniorcitizen'], inplace=True)"
      ]
    },
    {
      "cell_type": "markdown",
      "metadata": {
        "id": "dxUdR-uw1GbC"
      },
      "source": [
        "## Transformación de los datos (OneHotEncoding)"
      ]
    },
    {
      "cell_type": "code",
      "execution_count": null,
      "metadata": {
        "id": "kYcbu_pG1GbD"
      },
      "outputs": [],
      "source": [
        "# Transformamos los valores categóricos en numéricos binarios con OneHotEncoding.\n",
        "df_encoded = pd.get_dummies(df_merged, drop_first=True)"
      ]
    },
    {
      "cell_type": "markdown",
      "metadata": {
        "id": "c_auNzjd1GbD"
      },
      "source": [
        "## Escalado de valores numéricos (StandardScaler)"
      ]
    },
    {
      "cell_type": "code",
      "execution_count": null,
      "metadata": {
        "id": "9Nco1q-y1GbD"
      },
      "outputs": [],
      "source": [
        "# Escalamos solo las columnas numéricas continuas.\n",
        "scaler = StandardScaler()\n",
        "numeric_columns = ['beginyear', 'beginmonth', 'monthlycharges', 'totalcharges']\n",
        "df_encoded[numeric_columns] = scaler.fit_transform(df_encoded[numeric_columns])"
      ]
    },
    {
      "cell_type": "markdown",
      "metadata": {
        "id": "OQZJnS6S1GbD"
      },
      "source": [
        "## Equilibrio de clases en objetivo"
      ]
    },
    {
      "cell_type": "code",
      "execution_count": null,
      "metadata": {
        "id": "KqIVuRZl1GbD",
        "outputId": "a3d0a1f7-b0e4-4cd7-fe70-6af230bea14b"
      },
      "outputs": [
        {
          "name": "stdout",
          "output_type": "stream",
          "text": [
            "Porcentajes de cada clase en objetivo\n",
            "0    73.463013\n",
            "1    26.536987\n",
            "Name: enddate, dtype: float64\n"
          ]
        }
      ],
      "source": [
        "# Veamos el equilibrio de las clases.\n",
        "print(\"Porcentajes de cada clase en objetivo\")\n",
        "print(df_encoded['enddate'].value_counts(normalize=True)*100)"
      ]
    },
    {
      "cell_type": "markdown",
      "metadata": {
        "id": "fnkG-kul1GbD"
      },
      "source": [
        "# Partición de los datos"
      ]
    },
    {
      "cell_type": "code",
      "execution_count": null,
      "metadata": {
        "id": "cmUAsqyG1GbD",
        "outputId": "70d9f59f-a7a7-4e3a-e2f9-b6434dd0402c"
      },
      "outputs": [
        {
          "name": "stdout",
          "output_type": "stream",
          "text": [
            "(5282, 29)\n"
          ]
        }
      ],
      "source": [
        "target = df_encoded['enddate']\n",
        "features = df_encoded.drop('enddate', axis=1)\n",
        "features_train, features_valid, target_train, target_valid = train_test_split(features, target, test_size=0.25, random_state=12345)\n",
        "print(features_train.shape)"
      ]
    },
    {
      "cell_type": "markdown",
      "metadata": {
        "id": "Ii4Ku5mj1GbD"
      },
      "source": [
        "# Entrenamiento de los modelos"
      ]
    },
    {
      "cell_type": "markdown",
      "metadata": {
        "id": "kwQpg3EW1GbE"
      },
      "source": [
        "Vamos a utilizar dos modelos diferentes de clasificación; \"Regresión Logística\" y \"Bosque aleatorio\". Antes de entrenarlos buscaremos sus mejores hiper parámetros."
      ]
    },
    {
      "cell_type": "markdown",
      "metadata": {
        "id": "xKMvZ5WE1GbE"
      },
      "source": [
        "## Regresión Logística"
      ]
    },
    {
      "cell_type": "code",
      "execution_count": null,
      "metadata": {
        "id": "cLwLIHGc1GbE",
        "outputId": "5191141f-5594-40d6-a518-54a12a5a68dd"
      },
      "outputs": [
        {
          "name": "stdout",
          "output_type": "stream",
          "text": [
            "Mejores hiperparámetros Regresión Logística: {'C': 10, 'max_iter': 100, 'penalty': 'l1', 'solver': 'liblinear'}\n",
            "AUC-ROC Regresión Logística: 0.8408800114248327\n"
          ]
        }
      ],
      "source": [
        "param_grid_lr = {\n",
        "    'penalty': ['l1', 'l2'],\n",
        "    'C': [0.01, 1, 10],\n",
        "    'solver': ['liblinear'],\n",
        "    'max_iter': [100, 300]\n",
        "}\n",
        "\n",
        "grid_lr = GridSearchCV(\n",
        "    LogisticRegression(),\n",
        "    param_grid_lr,\n",
        "    cv=5,\n",
        "    scoring='roc_auc',\n",
        "    n_jobs=-1\n",
        ")\n",
        "\n",
        "grid_lr.fit(features_train, target_train)\n",
        "\n",
        "print(\"Mejores hiperparámetros Regresión Logística:\", grid_lr.best_params_)\n",
        "print(\"AUC-ROC Regresión Logística:\", grid_lr.best_score_)"
      ]
    },
    {
      "cell_type": "markdown",
      "metadata": {
        "id": "2UWPMz0Z1GbE"
      },
      "source": [
        "## Bosque Aleatorio"
      ]
    },
    {
      "cell_type": "code",
      "execution_count": null,
      "metadata": {
        "id": "kdLY96C81GbI",
        "outputId": "7ee20732-5a67-476e-9793-151f9a717674"
      },
      "outputs": [
        {
          "name": "stdout",
          "output_type": "stream",
          "text": [
            "Mejores hiperparámetros Bosque Aleatorio: {'max_depth': None, 'max_features': 'sqrt', 'min_samples_split': 5, 'n_estimators': 200}\n",
            "AUC-ROC Bosque Aleatorio: 0.8772131590441568\n"
          ]
        }
      ],
      "source": [
        "param_grid_rf = {\n",
        "    'n_estimators': [100, 200],\n",
        "    'max_depth': [None, 10],\n",
        "    'min_samples_split': [2, 5],\n",
        "    'max_features': ['sqrt']\n",
        "}\n",
        "\n",
        "grid_rf = GridSearchCV(\n",
        "    RandomForestClassifier(),\n",
        "    param_grid_rf,\n",
        "    cv=5,\n",
        "    scoring='roc_auc',\n",
        "    n_jobs=-1\n",
        ")\n",
        "\n",
        "grid_rf.fit(features_train, target_train)\n",
        "\n",
        "print(\"Mejores hiperparámetros Bosque Aleatorio:\", grid_rf.best_params_)\n",
        "print(\"AUC-ROC Bosque Aleatorio:\", grid_rf.best_score_)"
      ]
    },
    {
      "cell_type": "markdown",
      "metadata": {
        "id": "xcB5pGV71GbJ"
      },
      "source": [
        "Con base a los resultados anteriores, podemos ver que al bosque aleatorio le fue mucho mejor que a la regresión logística, por lo que elegimos al bosque aleatorio para hacer predicciones utilizando los valores de validación y evaluaremos su AUC-ROC."
      ]
    },
    {
      "cell_type": "markdown",
      "metadata": {
        "id": "c7qcZKcG1GbJ"
      },
      "source": [
        "## Evaluar y seleccionar al mejor modelo"
      ]
    },
    {
      "cell_type": "code",
      "execution_count": null,
      "metadata": {
        "id": "mLQUov-J1GbJ",
        "outputId": "28f00276-9170-4dc1-8ab0-58a6f3de311a"
      },
      "outputs": [
        {
          "name": "stdout",
          "output_type": "stream",
          "text": [
            "AUC-ROC: 0.8888208603398475\n"
          ]
        },
        {
          "data": {
            "image/png": "[encoded data removed]",
            "text/plain": [
              "<Figure size 640x480 with 1 Axes>"
            ]
          },
          "metadata": {},
          "output_type": "display_data"
        }
      ],
      "source": [
        "# Obtenemos el mejor modelo encontrado por GridSearchCV().\n",
        "mejor_modelo_rf = grid_rf.best_estimator_\n",
        "\n",
        "# Hacemos predicciones con los datos de validación.\n",
        "pred_proba = mejor_modelo_rf.predict_proba(features_valid)[:, 1]\n",
        "\n",
        "# Mostramos el resultado de la métrica AUC-ROC.\n",
        "print(\"AUC-ROC:\", roc_auc_score(target_valid, pred_proba))\n",
        "\n",
        "# Mostramos la curva ROC.\n",
        "fpr, tpr, _ = roc_curve(target_valid, pred_proba)\n",
        "plt.plot(fpr, tpr, label=\"Curva ROC\")\n",
        "plt.plot([0, 1], [0, 1], linestyle='--', color='gray')\n",
        "plt.xlabel(\"Taza de Falsos Positivos\")\n",
        "plt.ylabel(\"Taza de Verdaderos Positivos\")\n",
        "plt.title(\"Curva ROC - Random Forest\")\n",
        "plt.legend()\n",
        "plt.show()"
      ]
    },
    {
      "cell_type": "markdown",
      "metadata": {
        "id": "4siaUL8a1GbJ"
      },
      "source": [
        "Hemos alcanzado un resultado de AUC-ROC mayor que 0.88. Lo que demuestra que nuestro modelo de clasificación binaria es bueno y puede clasificar correctamente las clases en la mayoría de los casos."
      ]
    },
    {
      "cell_type": "markdown",
      "source": [
        "# Conclusiones"
      ],
      "metadata": {
        "id": "oKmkdH93EOdZ"
      }
    },
    {
      "cell_type": "markdown",
      "source": [
        "Hemos determinado que el bosque aleatorio es el mejor modelo de clasificación binaria al haber alcanzado la mayor calificación de AUC-ROC. Este modelo le será de muchas utilidad a nuestro cliente y mi recomendación es que se integre a un sistema de retnción automatizada."
      ],
      "metadata": {
        "id": "X7nTr0vVEXxe"
      }
    }
  ],
  "metadata": {
    "kernelspec": {
      "display_name": "Python 3 (ipykernel)",
      "language": "python",
      "name": "python3"
    },
    "language_info": {
      "codemirror_mode": {
        "name": "ipython",
        "version": 3
      },
      "file_extension": ".py",
      "mimetype": "text/x-python",
      "name": "python",
      "nbconvert_exporter": "python",
      "pygments_lexer": "ipython3",
      "version": "3.9.23"
    },
    "colab": {
      "provenance": []
    }
  },
  "nbformat": 4,
  "nbformat_minor": 0
}